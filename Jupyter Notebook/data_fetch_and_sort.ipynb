{
 "cells": [
  {
   "cell_type": "code",
   "execution_count": 1,
   "id": "520ab6a7-ed66-4444-adcf-b581025c2a1d",
   "metadata": {},
   "outputs": [],
   "source": [
    "import numpy as np\n",
    "import pandas as pd\n",
    "import nselib\n",
    "from nselib import capital_market\n",
    "from datetime import datetime, timedelta"
   ]
  },
  {
   "cell_type": "code",
   "execution_count": 2,
   "id": "0c201cf2-aedd-49ec-93e4-e338cfc06aff",
   "metadata": {},
   "outputs": [],
   "source": [
    "def sort_csv_by_delivery_percentage(csv_file):\n",
    "    try:\n",
    "        # df = pd.read_csv(csv_file)\n",
    "        # if not isinstance(csv_file, pd.DataFrame):\n",
    "        #     raise ValueError(\"Input is not a DataFrame\")\n",
    "\n",
    "        # Sort the DataFrame based on the DELIV_PER column in descending order\n",
    "        df_sorted = csv_file.sort_values(by='DELIV_PER', ascending=False)\n",
    "\n",
    "        # Select only the 'SYMBOL' and 'DELIV_PER' columns\n",
    "        df_sorted_subset = df_sorted[['SYMBOL', 'DELIV_PER']]\n",
    "\n",
    "        # df_sorted_subset\n",
    "\n",
    "        # Check if the DataFrame has at least 15 rows\n",
    "        if len(df_sorted_subset) >= 15:\n",
    "            # Print only the first 15 rows\n",
    "            print(df_sorted_subset.head(15))\n",
    "        else:\n",
    "            # Print all rows if there are fewer than 15 rows\n",
    "            print(df_sorted_subset)\n",
    "\n",
    "        print('CSV file with selected columns sorted in descending order and first 15 rows printed successfully!')\n",
    "\n",
    "    except FileNotFoundError:\n",
    "        print(f\"Error: CSV file '{csv_file}' not found. Please check the file path.\")\n",
    "    except Exception as e:\n",
    "        print(f\"An error occurred: {e}\")\n"
   ]
  },
  {
   "cell_type": "code",
   "execution_count": 3,
   "id": "6895d45e-a224-4b0d-9949-da4de5a94570",
   "metadata": {},
   "outputs": [],
   "source": [
    "def download_data_from_date(date_input):\n",
    "    \n",
    "    # Fetch Bhav Copy data for the specified date\n",
    "    formatted_date = date_input.strftime(\"%d-%m-%Y\")\n",
    "    try:\n",
    "        df = capital_market.bhav_copy_with_delivery(formatted_date)\n",
    "    \n",
    "        df['DELIV_PER'] = pd.to_numeric(df['DELIV_PER'], errors='coerce')\n",
    "        condition = (\n",
    "                (df['SERIES'] == 'EQ') &\n",
    "                (df['TURNOVER_LACS'] > 100) &\n",
    "                (df['DELIV_PER'] > 85.00) &\n",
    "                (~df['SYMBOL'].str.endswith(('BEES', 'ETF', 'NIFTY', 'GOLD')))\n",
    "        )\n",
    "        new_df = df[condition]\n",
    "        # print(new_df)\n",
    "        \n",
    "        sort_csv_by_delivery_percentage(new_df.head())\n",
    "\n",
    "    except Exception as e:\n",
    "        print(\"Error in fetching Bhav Copy data\")\n",
    "    \n"
   ]
  },
  {
   "cell_type": "code",
   "execution_count": 4,
   "id": "ba348f5d-2671-4e7f-a457-8b80ffc5eb86",
   "metadata": {},
   "outputs": [
    {
     "name": "stdin",
     "output_type": "stream",
     "text": [
      "Enter the date in DD-MM-YYYY format (e.g., 01-05-2024):  03-05-2024\n"
     ]
    },
    {
     "name": "stdout",
     "output_type": "stream",
     "text": [
      "         SYMBOL  DELIV_PER\n",
      "638  EBBETF0433      99.45\n",
      "112      AIAENG      92.72\n",
      "346        BFSI      89.28\n",
      "70   ABSLLIQUID      85.71\n",
      "660   ELGIEQUIP      85.11\n",
      "CSV file with selected columns sorted in descending order and first 15 rows printed successfully!\n"
     ]
    }
   ],
   "source": [
    "# Get user input for date\n",
    "date_input_str = input(\"Enter the date in DD-MM-YYYY format (e.g., 01-05-2024): \")\n",
    "date_input = datetime.strptime(date_input_str, \"%d-%m-%Y\")\n",
    "download_data_from_date(date_input)"
   ]
  },
  {
   "cell_type": "code",
   "execution_count": null,
   "id": "567ecf04-b7aa-4f0a-a8cc-9d907ce9a46a",
   "metadata": {},
   "outputs": [],
   "source": []
  }
 ],
 "metadata": {
  "kernelspec": {
   "display_name": "Python 3 (ipykernel)",
   "language": "python",
   "name": "python3"
  },
  "language_info": {
   "codemirror_mode": {
    "name": "ipython",
    "version": 3
   },
   "file_extension": ".py",
   "mimetype": "text/x-python",
   "name": "python",
   "nbconvert_exporter": "python",
   "pygments_lexer": "ipython3",
   "version": "3.11.8"
  }
 },
 "nbformat": 4,
 "nbformat_minor": 5
}
