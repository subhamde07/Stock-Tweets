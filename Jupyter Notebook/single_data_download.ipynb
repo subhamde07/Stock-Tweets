{
 "cells": [
  {
   "cell_type": "code",
   "execution_count": 1,
   "id": "a8b5937e-8ae6-477d-90af-10a4112b2ff3",
   "metadata": {},
   "outputs": [],
   "source": [
    "import numpy as np\n",
    "import pandas as pd\n",
    "import nselib\n",
    "from nselib import capital_market"
   ]
  },
  {
   "cell_type": "code",
   "execution_count": 2,
   "id": "1da19a87-a9a2-4b3e-ae3b-62d224df79e9",
   "metadata": {
    "scrolled": true
   },
   "outputs": [
    {
     "name": "stdin",
     "output_type": "stream",
     "text": [
      "Enter the date in DD-MM-YYYY format (e.g., 01-05-2024):  03-04-2024\n"
     ]
    }
   ],
   "source": [
    "# Get user input for date\n",
    "date_input = input(\"Enter the date in DD-MM-YYYY format (e.g., 01-05-2024): \")\n",
    "\n",
    "# Fetch Bhav Copy data for the specified date\n",
    "df = capital_market.bhav_copy_with_delivery(date_input)\n"
   ]
  },
  {
   "cell_type": "code",
   "execution_count": 3,
   "id": "2b32e9be-c18e-4a2f-bcab-6daec23f5225",
   "metadata": {
    "scrolled": true
   },
   "outputs": [],
   "source": [
    "# Apply conditions to filter the dataframe\n",
    "\n",
    "df['DELIV_PER'] = pd.to_numeric(df['DELIV_PER'], errors='coerce')\n",
    "condition = (df['SERIES'] == 'EQ') & (df['TURNOVER_LACS'] > 100) & (df['DELIV_PER'] > 85.00) # Add more conditions as needed\n",
    "new_df = df[condition]\n"
   ]
  },
  {
   "cell_type": "code",
   "execution_count": 4,
   "id": "5f469e4a-2083-4e60-8eaa-f4a49786817c",
   "metadata": {
    "scrolled": true
   },
   "outputs": [
    {
     "name": "stdout",
     "output_type": "stream",
     "text": [
      "['SYMBOL', 'SERIES', 'OPEN_PRICE', 'HIGH_PRICE', 'LOW_PRICE', 'CLOSE_PRICE', 'PREV_CLOSE', 'TTL_TRD_QNTY', 'TURNOVER_LACS', 'NO_OF_TRADES', 'DELIV_QTY', 'DELIV_PER', 'DATE1']\n",
      "\n"
     ]
    },
    {
     "data": {
      "text/html": [
       "<div>\n",
       "<style scoped>\n",
       "    .dataframe tbody tr th:only-of-type {\n",
       "        vertical-align: middle;\n",
       "    }\n",
       "\n",
       "    .dataframe tbody tr th {\n",
       "        vertical-align: top;\n",
       "    }\n",
       "\n",
       "    .dataframe thead th {\n",
       "        text-align: right;\n",
       "    }\n",
       "</style>\n",
       "<table border=\"1\" class=\"dataframe\">\n",
       "  <thead>\n",
       "    <tr style=\"text-align: right;\">\n",
       "      <th></th>\n",
       "      <th>SYMBOL</th>\n",
       "      <th>SERIES</th>\n",
       "      <th>OPEN_PRICE</th>\n",
       "      <th>HIGH_PRICE</th>\n",
       "      <th>LOW_PRICE</th>\n",
       "      <th>CLOSE_PRICE</th>\n",
       "      <th>PREV_CLOSE</th>\n",
       "      <th>TTL_TRD_QNTY</th>\n",
       "      <th>TURNOVER_LACS</th>\n",
       "      <th>NO_OF_TRADES</th>\n",
       "      <th>DELIV_QTY</th>\n",
       "      <th>DELIV_PER</th>\n",
       "      <th>DATE1</th>\n",
       "    </tr>\n",
       "  </thead>\n",
       "  <tbody>\n",
       "    <tr>\n",
       "      <th>10</th>\n",
       "      <td>63MOONS</td>\n",
       "      <td>EQ</td>\n",
       "      <td>441.65</td>\n",
       "      <td>441.65</td>\n",
       "      <td>441.65</td>\n",
       "      <td>441.65</td>\n",
       "      <td>420.65</td>\n",
       "      <td>32834</td>\n",
       "      <td>145.01</td>\n",
       "      <td>285</td>\n",
       "      <td>32834</td>\n",
       "      <td>100.00</td>\n",
       "      <td>03-Apr-2024</td>\n",
       "    </tr>\n",
       "    <tr>\n",
       "      <th>55</th>\n",
       "      <td>AAVAS</td>\n",
       "      <td>EQ</td>\n",
       "      <td>1420.00</td>\n",
       "      <td>1424.95</td>\n",
       "      <td>1391.00</td>\n",
       "      <td>1395.55</td>\n",
       "      <td>1415.45</td>\n",
       "      <td>425529</td>\n",
       "      <td>5981.45</td>\n",
       "      <td>19734</td>\n",
       "      <td>369277</td>\n",
       "      <td>86.78</td>\n",
       "      <td>03-Apr-2024</td>\n",
       "    </tr>\n",
       "    <tr>\n",
       "      <th>264</th>\n",
       "      <td>AXISNIFTY</td>\n",
       "      <td>EQ</td>\n",
       "      <td>248.80</td>\n",
       "      <td>248.80</td>\n",
       "      <td>239.51</td>\n",
       "      <td>241.58</td>\n",
       "      <td>241.54</td>\n",
       "      <td>495659</td>\n",
       "      <td>1195.79</td>\n",
       "      <td>321</td>\n",
       "      <td>489331</td>\n",
       "      <td>98.72</td>\n",
       "      <td>03-Apr-2024</td>\n",
       "    </tr>\n",
       "    <tr>\n",
       "      <th>302</th>\n",
       "      <td>BANKETF</td>\n",
       "      <td>EQ</td>\n",
       "      <td>473.74</td>\n",
       "      <td>477.43</td>\n",
       "      <td>472.44</td>\n",
       "      <td>476.48</td>\n",
       "      <td>475.31</td>\n",
       "      <td>67108</td>\n",
       "      <td>319.32</td>\n",
       "      <td>89</td>\n",
       "      <td>63974</td>\n",
       "      <td>95.33</td>\n",
       "      <td>03-Apr-2024</td>\n",
       "    </tr>\n",
       "    <tr>\n",
       "      <th>303</th>\n",
       "      <td>BANKETFADD</td>\n",
       "      <td>EQ</td>\n",
       "      <td>47.15</td>\n",
       "      <td>48.06</td>\n",
       "      <td>47.15</td>\n",
       "      <td>47.95</td>\n",
       "      <td>47.84</td>\n",
       "      <td>740022</td>\n",
       "      <td>355.40</td>\n",
       "      <td>148</td>\n",
       "      <td>735634</td>\n",
       "      <td>99.41</td>\n",
       "      <td>03-Apr-2024</td>\n",
       "    </tr>\n",
       "  </tbody>\n",
       "</table>\n",
       "</div>"
      ],
      "text/plain": [
       "         SYMBOL SERIES  OPEN_PRICE  HIGH_PRICE  LOW_PRICE  CLOSE_PRICE  \\\n",
       "10      63MOONS     EQ      441.65      441.65     441.65       441.65   \n",
       "55        AAVAS     EQ     1420.00     1424.95    1391.00      1395.55   \n",
       "264   AXISNIFTY     EQ      248.80      248.80     239.51       241.58   \n",
       "302     BANKETF     EQ      473.74      477.43     472.44       476.48   \n",
       "303  BANKETFADD     EQ       47.15       48.06      47.15        47.95   \n",
       "\n",
       "     PREV_CLOSE  TTL_TRD_QNTY  TURNOVER_LACS  NO_OF_TRADES DELIV_QTY  \\\n",
       "10       420.65         32834         145.01           285     32834   \n",
       "55      1415.45        425529        5981.45         19734    369277   \n",
       "264      241.54        495659        1195.79           321    489331   \n",
       "302      475.31         67108         319.32            89     63974   \n",
       "303       47.84        740022         355.40           148    735634   \n",
       "\n",
       "     DELIV_PER        DATE1  \n",
       "10      100.00  03-Apr-2024  \n",
       "55       86.78  03-Apr-2024  \n",
       "264      98.72  03-Apr-2024  \n",
       "302      95.33  03-Apr-2024  \n",
       "303      99.41  03-Apr-2024  "
      ]
     },
     "execution_count": 4,
     "metadata": {},
     "output_type": "execute_result"
    }
   ],
   "source": [
    "# Display the first few rows and columns of the dataframe\n",
    "\n",
    "print(df.columns.to_list()), print()\n",
    "new_df.head()"
   ]
  },
  {
   "cell_type": "code",
   "execution_count": null,
   "id": "20cb2fb1-6499-4e08-91bc-55f4fde8f3d5",
   "metadata": {},
   "outputs": [],
   "source": [
    "# Save filtered dataframe to CSV\n",
    "\n",
    "output_path = '/home/subhamde/Desktop/Final Year Project/Stock-Tweets/Data/after_sort2.csv'\n",
    "new_df.to_csv(output_path, index=False)\n",
    "print(f\"CSV file saved successfully at: {output_path}\")"
   ]
  }
 ],
 "metadata": {
  "kernelspec": {
   "display_name": "Python 3 (ipykernel)",
   "language": "python",
   "name": "python3"
  },
  "language_info": {
   "codemirror_mode": {
    "name": "ipython",
    "version": 3
   },
   "file_extension": ".py",
   "mimetype": "text/x-python",
   "name": "python",
   "nbconvert_exporter": "python",
   "pygments_lexer": "ipython3",
   "version": "3.11.8"
  }
 },
 "nbformat": 4,
 "nbformat_minor": 5
}
