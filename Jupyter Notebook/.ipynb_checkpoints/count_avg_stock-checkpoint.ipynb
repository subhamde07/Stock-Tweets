{
 "cells": [
  {
   "cell_type": "code",
   "execution_count": 20,
   "id": "9beba50d-edc8-45c7-b880-3cbc8179a62a",
   "metadata": {},
   "outputs": [],
   "source": [
    "import numpy as np\n",
    "import pandas as pd\n",
    "from nselib import capital_market\n",
    "from datetime import datetime, timedelta"
   ]
  },
  {
   "cell_type": "code",
   "execution_count": 21,
   "id": "21299cea-d32e-4161-859e-06ee7f687fe2",
   "metadata": {},
   "outputs": [],
   "source": [
    "def is_weekend(date_input):\n",
    "    return date_input.weekday() >= 5  # Saturday (5) and Sunday (6)"
   ]
  },
  {
   "cell_type": "code",
   "execution_count": 22,
   "id": "c7efbd62-15c5-42ec-aa58-f912140c268e",
   "metadata": {},
   "outputs": [],
   "source": [
    "def fetch_and_sort_data(date_input):\n",
    "    global formatted_date\n",
    "    try:\n",
    "        # Format the date\n",
    "        formatted_date = date_input.strftime(\"%d-%m-%Y\")\n",
    "\n",
    "        # Fetch Bhav Copy data for the specified date\n",
    "        df = capital_market.bhav_copy_with_delivery(formatted_date)\n",
    "\n",
    "        # Convert 'DELIV_PER' column to numeric using NumPy\n",
    "        df['DELIV_PER'] = pd.to_numeric(df['DELIV_PER'], errors='coerce')\n",
    "\n",
    "        # Apply filtering conditions using vectorized operations\n",
    "        condition = (\n",
    "                (df['SERIES'] == 'EQ') &\n",
    "                (df['TURNOVER_LACS'] > 100) &\n",
    "                (df['DELIV_PER'] > 85.00) &\n",
    "                (~df['SYMBOL'].str.endswith(('BEES', 'ETF', 'NIFTY', 'GOLD')))\n",
    "        )\n",
    "        filtered_df = df[condition]\n",
    "\n",
    "        # Sort by DELIV_PER in descending order using NumPy\n",
    "        sorted_indices = np.argsort(filtered_df['DELIV_PER'].values)[::-1]\n",
    "        sorted_df = filtered_df.iloc[sorted_indices[:15]]  # Select top 15 rows\n",
    "\n",
    "        # Create DataFrame with only the required columns\n",
    "        result_df = pd.DataFrame({\n",
    "            'SYMBOL': sorted_df['SYMBOL'].values,\n",
    "            'DELIV_PER': sorted_df['DELIV_PER'].values\n",
    "        })\n",
    "\n",
    "        return result_df  # Return the sorted DataFrame\n",
    "\n",
    "    except Exception as e:\n",
    "        print(f\"Error processing data for {formatted_date}: {e}\")\n",
    "        return None  # Return None if there's an error"
   ]
  },
  {
   "cell_type": "code",
   "execution_count": 26,
   "id": "7a83b66e-55f4-437e-8932-b0b337ff9216",
   "metadata": {},
   "outputs": [],
   "source": [
    "def process_data_range(start_date, end_date):\n",
    "    try:\n",
    "        # Convert start and end dates to datetime objects\n",
    "        start_date = datetime.strptime(start_date, \"%d-%m-%Y\")\n",
    "        end_date = datetime.strptime(end_date, \"%d-%m-%Y\")\n",
    "\n",
    "        # Check if start date is before end date\n",
    "        if start_date > end_date:\n",
    "            raise ValueError(\"Start date cannot be after end date\")\n",
    "\n",
    "        # Initialize dictionaries to store count and sum for each SYMBOL\n",
    "        count_dict = {}\n",
    "        sum_dict = {}\n",
    "\n",
    "        # Loop through the date range and fetch data for each date\n",
    "        date_range = pd.date_range(start=start_date, end=end_date)\n",
    "        for date_input in date_range:\n",
    "            if not is_weekend(date_input):\n",
    "                df = fetch_and_sort_data(date_input)\n",
    "                if df is not None:\n",
    "                    # Count 'SYMBOL' occurrences and calculate 'DELIV_PER' average\n",
    "                    for symbol in df['SYMBOL']:\n",
    "                        count_dict[symbol] = count_dict.get(symbol, 0) + 1\n",
    "                        sum_dict[symbol] = sum_dict.get(symbol, 0) + df[df['SYMBOL'] == symbol]['DELIV_PER'].values[0]\n",
    "\n",
    "        # Create DataFrame for 'SYMBOL', 'TOTAL_COUNT', 'AVG_DELIV_PER'\n",
    "        data = {'SYMBOL': list(count_dict.keys()), 'TOTAL_COUNT': list(count_dict.values()),\n",
    "                'AVG_DELIV_PER': [sum_dict[s] / count_dict[s] for s in count_dict.keys()]}\n",
    "        result_df = pd.DataFrame(data)\n",
    "\n",
    "        # Filter SYMBOLs with TOTAL_COUNT > 5 and Sort by 'TOTAL_COUNT' in descending order\n",
    "        # result_df = result_df[result_df['TOTAL_COUNT'] > 5].sort_values(by='TOTAL_COUNT', ascending=False)\n",
    "\n",
    "        # Filter SYMBOLs with TOTAL_COUNT > 5 and Sort by 'TOTAL_COUNT' in descending order\n",
    "        result_df = result_df[result_df['TOTAL_COUNT'] > 5].sort_values(by='AVG_DELIV_PER', ascending=False)\n",
    "\n",
    "        # Save the result to a CSV file\n",
    "        start = start_date.strftime(\"%Y-%m-%d\")\n",
    "        end = end_date.strftime(\"%Y-%m-%d\")\n",
    "        result_df.to_csv(f'/home/subhamde/Desktop/Final Year Project/Stock-Tweets/Data/symbol_stats({start} to {end}).csv', index=False)\n",
    "        print(\"Data saved successfully!\")\n",
    "\n",
    "    except ValueError as ve:\n",
    "        print(f\"ValueError: {ve}\")\n",
    "    except Exception as e:\n",
    "        print(f\"An error occurred: {e}\")"
   ]
  },
  {
   "cell_type": "code",
   "execution_count": 27,
   "id": "a09169f5-8ef2-4a6b-aa72-2c8c08ccaa25",
   "metadata": {},
   "outputs": [
    {
     "name": "stdin",
     "output_type": "stream",
     "text": [
      "Enter the start date in DD-MM-YYYY format:  01-04-2024\n",
      "Enter the end date in DD-MM-YYYY format:  30-04-2024\n"
     ]
    },
    {
     "name": "stdout",
     "output_type": "stream",
     "text": [
      "Data saved successfully!\n"
     ]
    }
   ],
   "source": [
    "start_date_str = input(\"Enter the start date in DD-MM-YYYY format: \")\n",
    "end_date_str = input(\"Enter the end date in DD-MM-YYYY format: \")\n",
    "\n",
    "# Call the function to process data for the specified date range\n",
    "process_data_range(start_date_str, end_date_str)"
   ]
  },
  {
   "cell_type": "code",
   "execution_count": null,
   "id": "3121d3ce-9dc5-48ca-8483-cf4a29e3d8b6",
   "metadata": {},
   "outputs": [],
   "source": []
  }
 ],
 "metadata": {
  "kernelspec": {
   "display_name": "Python 3 (ipykernel)",
   "language": "python",
   "name": "python3"
  },
  "language_info": {
   "codemirror_mode": {
    "name": "ipython",
    "version": 3
   },
   "file_extension": ".py",
   "mimetype": "text/x-python",
   "name": "python",
   "nbconvert_exporter": "python",
   "pygments_lexer": "ipython3",
   "version": "3.11.8"
  }
 },
 "nbformat": 4,
 "nbformat_minor": 5
}
