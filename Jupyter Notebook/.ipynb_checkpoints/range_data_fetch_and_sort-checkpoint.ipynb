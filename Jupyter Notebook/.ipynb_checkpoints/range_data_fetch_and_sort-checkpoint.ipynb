{
 "cells": [
  {
   "cell_type": "code",
   "execution_count": 1,
   "id": "e1798a9d-59e1-442f-948d-a2fe5afd90e5",
   "metadata": {},
   "outputs": [],
   "source": [
    "import numpy as np\n",
    "import pandas as pd\n",
    "from nselib import capital_market\n",
    "from datetime import datetime, timedelta"
   ]
  },
  {
   "cell_type": "code",
   "execution_count": 2,
   "id": "42ea2272-2af2-45e8-ab80-60657c6b27f7",
   "metadata": {},
   "outputs": [],
   "source": [
    "def fetch_and_sort_data(date_input):\n",
    "    try:\n",
    "        # Format the date\n",
    "        formatted_date = date_input.strftime(\"%d-%m-%Y\")\n",
    "\n",
    "        # Fetch Bhav Copy data for the specified date\n",
    "        df = capital_market.bhav_copy_with_delivery(formatted_date)\n",
    "\n",
    "        # Convert 'DELIV_PER' column to numeric using NumPy\n",
    "        df['DELIV_PER'] = pd.to_numeric(df['DELIV_PER'], errors='coerce')\n",
    "\n",
    "        # Apply filtering conditions using vectorized operations\n",
    "        condition = (\n",
    "                (df['SERIES'] == 'EQ') &\n",
    "                (df['TURNOVER_LACS'] > 100) &\n",
    "                (df['DELIV_PER'] > 85.00) &\n",
    "                (~df['SYMBOL'].str.endswith(('BEES', 'ETF', 'NIFTY', 'GOLD')))\n",
    "        )\n",
    "        filtered_df = df[condition]\n",
    "\n",
    "        # Sort by DELIV_PER in descending order using NumPy\n",
    "        sorted_indices = np.argsort(filtered_df['DELIV_PER'].values)[::-1]\n",
    "        sorted_df = filtered_df.iloc[sorted_indices[:15]]  # Select top 15 rows\n",
    "\n",
    "        # Create DataFrame with only the required columns\n",
    "        result_df = pd.DataFrame({\n",
    "            'SYMBOL': sorted_df['SYMBOL'].values,\n",
    "            'DELIV_PER': sorted_df['DELIV_PER'].values\n",
    "        })\n",
    "\n",
    "        return result_df  # Return the sorted DataFrame\n",
    "\n",
    "    except Exception as e:\n",
    "        print(f\"Holiday on {formatted_date}: {e}\")\n",
    "        return None  # Return None if there's an error\n"
   ]
  },
  {
   "cell_type": "code",
   "execution_count": 3,
   "id": "3a7d2ec2-6a8b-4815-8d4f-94344407bfe1",
   "metadata": {},
   "outputs": [],
   "source": [
    "def download_data_for_date_range(start_date, end_date):\n",
    "    try:\n",
    "        # Convert start and end dates to datetime objects\n",
    "        start_date = datetime.strptime(start_date, \"%d-%m-%Y\")\n",
    "        end_date = datetime.strptime(end_date, \"%d-%m-%Y\")\n",
    "\n",
    "        # Check if start date is before end date\n",
    "        if start_date > end_date:\n",
    "            raise ValueError(\"Start date cannot be after end date\")\n",
    "\n",
    "        # Loop through the date range and fetch data for each date\n",
    "        date_range = pd.date_range(start=start_date, end=end_date)\n",
    "        for date_input in date_range:\n",
    "            result_df = fetch_and_sort_data(date_input)\n",
    "            if result_df is not None:\n",
    "                # Save the data to a CSV file for each date\n",
    "                date_data = date_input.strftime(\"%Y-%m-%d\")\n",
    "                file_name = f\"/home/subhamde/Desktop/Final Year Project/Stock-Tweets/Data/{date_data}_sorted_data.csv\"\n",
    "                result_df.to_csv(file_name, index=False)\n",
    "                print(f\"Data for {date_data} saved to '{file_name}' successfully!\")\n",
    "\n",
    "    except ValueError as ve:\n",
    "        print(f\"ValueError: {ve}\")\n",
    "    except Exception as e:\n",
    "        print(f\"An error occurred: {e}\")\n"
   ]
  },
  {
   "cell_type": "code",
   "execution_count": 4,
   "id": "7fd6f249-79ad-4499-a14b-b4b3dfb8e540",
   "metadata": {},
   "outputs": [
    {
     "name": "stdin",
     "output_type": "stream",
     "text": [
      "Enter the start date in DD-MM-YYYY format:  05-04-2024\n",
      "Enter the end date in DD-MM-YYYY format:  15-04-2024\n"
     ]
    },
    {
     "name": "stdout",
     "output_type": "stream",
     "text": [
      "Data for 2024-04-05 saved to '/home/subhamde/Desktop/Final Year Project/Stock-Tweets/Data/2024-04-05_sorted_data.csv' successfully!\n",
      "Holiday on 06-04-2024: \"None of [Index(['SYMBOL', 'SERIES', 'OPEN_PRICE', 'HIGH_PRICE', 'LOW_PRICE',\\n       'CLOSE_PRICE', 'PREV_CLOSE', 'TTL_TRD_QNTY', 'TURNOVER_LACS',\\n       'NO_OF_TRADES', 'DELIV_QTY', 'DELIV_PER', 'DATE1'],\\n      dtype='object')] are in the [columns]\"\n",
      "Data for 2024-04-07 saved to '/home/subhamde/Desktop/Final Year Project/Stock-Tweets/Data/2024-04-07_sorted_data.csv' successfully!\n",
      "Data for 2024-04-08 saved to '/home/subhamde/Desktop/Final Year Project/Stock-Tweets/Data/2024-04-08_sorted_data.csv' successfully!\n",
      "Data for 2024-04-09 saved to '/home/subhamde/Desktop/Final Year Project/Stock-Tweets/Data/2024-04-09_sorted_data.csv' successfully!\n",
      "Data for 2024-04-10 saved to '/home/subhamde/Desktop/Final Year Project/Stock-Tweets/Data/2024-04-10_sorted_data.csv' successfully!\n",
      "Data for 2024-04-11 saved to '/home/subhamde/Desktop/Final Year Project/Stock-Tweets/Data/2024-04-11_sorted_data.csv' successfully!\n",
      "Data for 2024-04-12 saved to '/home/subhamde/Desktop/Final Year Project/Stock-Tweets/Data/2024-04-12_sorted_data.csv' successfully!\n",
      "Holiday on 13-04-2024: \"None of [Index(['SYMBOL', 'SERIES', 'OPEN_PRICE', 'HIGH_PRICE', 'LOW_PRICE',\\n       'CLOSE_PRICE', 'PREV_CLOSE', 'TTL_TRD_QNTY', 'TURNOVER_LACS',\\n       'NO_OF_TRADES', 'DELIV_QTY', 'DELIV_PER', 'DATE1'],\\n      dtype='object')] are in the [columns]\"\n",
      "Data for 2024-04-14 saved to '/home/subhamde/Desktop/Final Year Project/Stock-Tweets/Data/2024-04-14_sorted_data.csv' successfully!\n",
      "Data for 2024-04-15 saved to '/home/subhamde/Desktop/Final Year Project/Stock-Tweets/Data/2024-04-15_sorted_data.csv' successfully!\n"
     ]
    }
   ],
   "source": [
    "# Get user input for date range\n",
    "start_date_str = input(\"Enter the start date in DD-MM-YYYY format: \")\n",
    "end_date_str = input(\"Enter the end date in DD-MM-YYYY format: \")\n",
    "\n",
    "# Call the function to download data for the specified date range\n",
    "download_data_for_date_range(start_date_str, end_date_str)"
   ]
  },
  {
   "cell_type": "code",
   "execution_count": null,
   "id": "a9f37689-acb2-4022-b1d2-a9c0d036aeb3",
   "metadata": {},
   "outputs": [],
   "source": []
  }
 ],
 "metadata": {
  "kernelspec": {
   "display_name": "Python 3 (ipykernel)",
   "language": "python",
   "name": "python3"
  },
  "language_info": {
   "codemirror_mode": {
    "name": "ipython",
    "version": 3
   },
   "file_extension": ".py",
   "mimetype": "text/x-python",
   "name": "python",
   "nbconvert_exporter": "python",
   "pygments_lexer": "ipython3",
   "version": "3.11.8"
  }
 },
 "nbformat": 4,
 "nbformat_minor": 5
}
