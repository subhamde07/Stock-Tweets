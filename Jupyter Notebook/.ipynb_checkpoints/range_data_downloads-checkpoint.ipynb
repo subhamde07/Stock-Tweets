{
 "cells": [
  {
   "cell_type": "code",
   "execution_count": 1,
   "id": "d7769c8b-63f3-4f79-9c2a-2f7a22578abf",
   "metadata": {},
   "outputs": [],
   "source": [
    "import numpy as np\n",
    "import pandas as pd\n",
    "import nselib\n",
    "from nselib import capital_market\n",
    "from datetime import datetime, timedelta"
   ]
  },
  {
   "cell_type": "code",
   "execution_count": 3,
   "id": "9d9a3452-42fa-4a55-b6ed-9e4beb6ef778",
   "metadata": {},
   "outputs": [],
   "source": [
    "def download_data_for_date_range(start_date, end_date):\n",
    "    current_date = start_date\n",
    "    while current_date <= end_date:\n",
    "        try:\n",
    "            formatted_date = current_date.strftime(\"%d-%m-%Y\")\n",
    "            df = capital_market.bhav_copy_with_delivery(formatted_date)\n",
    "    \n",
    "            df['DELIV_PER'] = pd.to_numeric(df['DELIV_PER'], errors='coerce')\n",
    "            condition = (\n",
    "                    (df['SERIES'] == 'EQ') &\n",
    "                    (df['TURNOVER_LACS'] > 100) &\n",
    "                    (df['DELIV_PER'] > 85.00) &\n",
    "                    (~df['SYMBOL'].str.endswith(('BEES', 'ETF', 'NIFTY', 'GOLD')))\n",
    "            )\n",
    "            new_df = df[condition]\n",
    "    \n",
    "            file_path = f'/home/subhamde/Desktop/Final Year Project/Stock-Tweets/Data/{formatted_date}_data.csv'\n",
    "            new_df.to_csv(file_path, index=False)\n",
    "            print(f\"CSV file saved successfully for {formatted_date} at: {file_path}\")\n",
    "        except Exception as e:\n",
    "            print(f\"Holiday: {current_date.strftime('%d-%m-%Y')}\")\n",
    "\n",
    "        current_date += timedelta(days=1)"
   ]
  },
  {
   "cell_type": "code",
   "execution_count": 4,
   "id": "33cdbcfa-0853-47e3-9fe8-9e72064e0dd7",
   "metadata": {},
   "outputs": [
    {
     "name": "stdin",
     "output_type": "stream",
     "text": [
      "Enter start date in dd-mm-yyyy (e.g., 01-05-2024):  06-04-2024\n",
      "Enter end date in dd-mm-yyyy (e.g., 01-05-2024):  08-04-2024\n"
     ]
    },
    {
     "name": "stdout",
     "output_type": "stream",
     "text": [
      "Holiday: 06-04-2024\n",
      "CSV file saved successfully for 07-04-2024 at: /home/subhamde/Desktop/Final Year Project/Stock-Tweets/Data/07-04-2024_data.csv\n",
      "CSV file saved successfully for 08-04-2024 at: /home/subhamde/Desktop/Final Year Project/Stock-Tweets/Data/08-04-2024_data.csv\n"
     ]
    }
   ],
   "source": [
    "start_date_str = input(\"Enter start date in dd-mm-yyyy (e.g., 01-05-2024): \")\n",
    "end_date_str = input(\"Enter end date in dd-mm-yyyy (e.g., 01-05-2024): \")\n",
    "\n",
    "start_date = datetime.strptime(start_date_str, \"%d-%m-%Y\")\n",
    "end_date = datetime.strptime(end_date_str, \"%d-%m-%Y\")\n",
    "\n",
    "download_data_for_date_range(start_date, end_date)\n"
   ]
  },
  {
   "cell_type": "code",
   "execution_count": null,
   "id": "15794730-0a3c-49b2-a3fc-18962a1fa970",
   "metadata": {},
   "outputs": [],
   "source": []
  }
 ],
 "metadata": {
  "kernelspec": {
   "display_name": "Python 3 (ipykernel)",
   "language": "python",
   "name": "python3"
  },
  "language_info": {
   "codemirror_mode": {
    "name": "ipython",
    "version": 3
   },
   "file_extension": ".py",
   "mimetype": "text/x-python",
   "name": "python",
   "nbconvert_exporter": "python",
   "pygments_lexer": "ipython3",
   "version": "3.11.8"
  }
 },
 "nbformat": 4,
 "nbformat_minor": 5
}
