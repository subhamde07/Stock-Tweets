{
 "cells": [
  {
   "cell_type": "code",
   "execution_count": 6,
   "id": "a8b5937e-8ae6-477d-90af-10a4112b2ff3",
   "metadata": {},
   "outputs": [],
   "source": [
    "import numpy as np\n",
    "import pandas as pd\n",
    "import nselib\n",
    "from nselib import capital_market"
   ]
  },
  {
   "cell_type": "code",
   "execution_count": 7,
   "id": "1da19a87-a9a2-4b3e-ae3b-62d224df79e9",
   "metadata": {
    "scrolled": true
   },
   "outputs": [
    {
     "name": "stdin",
     "output_type": "stream",
     "text": [
      "Enter the date in DD-MM-YYYY format (e.g., 01-05-2024):  04-04-2024\n"
     ]
    }
   ],
   "source": [
    "# Get user input for date\n",
    "date_input = input(\"Enter the date in DD-MM-YYYY format (e.g., 01-05-2024): \")\n",
    "\n",
    "# Fetch Bhav Copy data for the specified date\n",
    "df = capital_market.bhav_copy_with_delivery(date_input)\n"
   ]
  },
  {
   "cell_type": "code",
   "execution_count": 13,
   "id": "2b32e9be-c18e-4a2f-bcab-6daec23f5225",
   "metadata": {
    "scrolled": true
   },
   "outputs": [],
   "source": [
    "# Apply conditions to filter the dataframe\n",
    "\n",
    "df['DELIV_PER'] = pd.to_numeric(df['DELIV_PER'], errors='coerce')\n",
    "condition = (df['SERIES'] == 'EQ') & (df['TURNOVER_LACS'] > 100) & (df['DELIV_PER'] > 85.00) # Add more conditions as needed\n",
    "new_df = df[condition]\n"
   ]
  },
  {
   "cell_type": "code",
   "execution_count": 14,
   "id": "5f469e4a-2083-4e60-8eaa-f4a49786817c",
   "metadata": {
    "scrolled": true
   },
   "outputs": [
    {
     "name": "stdout",
     "output_type": "stream",
     "text": [
      "['SYMBOL', 'SERIES', 'OPEN_PRICE', 'HIGH_PRICE', 'LOW_PRICE', 'CLOSE_PRICE', 'PREV_CLOSE', 'TTL_TRD_QNTY', 'TURNOVER_LACS', 'NO_OF_TRADES', 'DELIV_QTY', 'DELIV_PER', 'DATE1']\n",
      "\n"
     ]
    },
    {
     "data": {
      "text/html": [
       "<div>\n",
       "<style scoped>\n",
       "    .dataframe tbody tr th:only-of-type {\n",
       "        vertical-align: middle;\n",
       "    }\n",
       "\n",
       "    .dataframe tbody tr th {\n",
       "        vertical-align: top;\n",
       "    }\n",
       "\n",
       "    .dataframe thead th {\n",
       "        text-align: right;\n",
       "    }\n",
       "</style>\n",
       "<table border=\"1\" class=\"dataframe\">\n",
       "  <thead>\n",
       "    <tr style=\"text-align: right;\">\n",
       "      <th></th>\n",
       "      <th>SYMBOL</th>\n",
       "      <th>SERIES</th>\n",
       "      <th>OPEN_PRICE</th>\n",
       "      <th>HIGH_PRICE</th>\n",
       "      <th>LOW_PRICE</th>\n",
       "      <th>CLOSE_PRICE</th>\n",
       "      <th>PREV_CLOSE</th>\n",
       "      <th>TTL_TRD_QNTY</th>\n",
       "      <th>TURNOVER_LACS</th>\n",
       "      <th>NO_OF_TRADES</th>\n",
       "      <th>DELIV_QTY</th>\n",
       "      <th>DELIV_PER</th>\n",
       "      <th>DATE1</th>\n",
       "    </tr>\n",
       "  </thead>\n",
       "  <tbody>\n",
       "    <tr>\n",
       "      <th>67</th>\n",
       "      <td>ABSLLIQUID</td>\n",
       "      <td>EQ</td>\n",
       "      <td>1000.00</td>\n",
       "      <td>1000.01</td>\n",
       "      <td>999.99</td>\n",
       "      <td>1000.00</td>\n",
       "      <td>1000.00</td>\n",
       "      <td>38510</td>\n",
       "      <td>385.10</td>\n",
       "      <td>101</td>\n",
       "      <td>34631</td>\n",
       "      <td>89.93</td>\n",
       "      <td>04-Apr-2024</td>\n",
       "    </tr>\n",
       "    <tr>\n",
       "      <th>87</th>\n",
       "      <td>ADORWELD</td>\n",
       "      <td>EQ</td>\n",
       "      <td>1416.65</td>\n",
       "      <td>1436.90</td>\n",
       "      <td>1409.00</td>\n",
       "      <td>1419.90</td>\n",
       "      <td>1409.10</td>\n",
       "      <td>50937</td>\n",
       "      <td>722.28</td>\n",
       "      <td>2692</td>\n",
       "      <td>44611</td>\n",
       "      <td>87.58</td>\n",
       "      <td>04-Apr-2024</td>\n",
       "    </tr>\n",
       "    <tr>\n",
       "      <th>143</th>\n",
       "      <td>ALPL30IETF</td>\n",
       "      <td>EQ</td>\n",
       "      <td>270.83</td>\n",
       "      <td>272.43</td>\n",
       "      <td>268.17</td>\n",
       "      <td>269.89</td>\n",
       "      <td>270.83</td>\n",
       "      <td>220620</td>\n",
       "      <td>595.62</td>\n",
       "      <td>1008</td>\n",
       "      <td>210086</td>\n",
       "      <td>95.23</td>\n",
       "      <td>04-Apr-2024</td>\n",
       "    </tr>\n",
       "    <tr>\n",
       "      <th>228</th>\n",
       "      <td>ASTRAZEN</td>\n",
       "      <td>EQ</td>\n",
       "      <td>5130.00</td>\n",
       "      <td>5251.40</td>\n",
       "      <td>5039.00</td>\n",
       "      <td>5080.50</td>\n",
       "      <td>5090.00</td>\n",
       "      <td>147186</td>\n",
       "      <td>7520.18</td>\n",
       "      <td>8036</td>\n",
       "      <td>133634</td>\n",
       "      <td>90.79</td>\n",
       "      <td>04-Apr-2024</td>\n",
       "    </tr>\n",
       "    <tr>\n",
       "      <th>247</th>\n",
       "      <td>AUTOBEES</td>\n",
       "      <td>EQ</td>\n",
       "      <td>221.00</td>\n",
       "      <td>223.00</td>\n",
       "      <td>217.51</td>\n",
       "      <td>220.48</td>\n",
       "      <td>219.15</td>\n",
       "      <td>571378</td>\n",
       "      <td>1258.37</td>\n",
       "      <td>2256</td>\n",
       "      <td>513194</td>\n",
       "      <td>89.82</td>\n",
       "      <td>04-Apr-2024</td>\n",
       "    </tr>\n",
       "  </tbody>\n",
       "</table>\n",
       "</div>"
      ],
      "text/plain": [
       "         SYMBOL SERIES  OPEN_PRICE  HIGH_PRICE  LOW_PRICE  CLOSE_PRICE  \\\n",
       "67   ABSLLIQUID     EQ     1000.00     1000.01     999.99      1000.00   \n",
       "87     ADORWELD     EQ     1416.65     1436.90    1409.00      1419.90   \n",
       "143  ALPL30IETF     EQ      270.83      272.43     268.17       269.89   \n",
       "228    ASTRAZEN     EQ     5130.00     5251.40    5039.00      5080.50   \n",
       "247    AUTOBEES     EQ      221.00      223.00     217.51       220.48   \n",
       "\n",
       "     PREV_CLOSE  TTL_TRD_QNTY  TURNOVER_LACS  NO_OF_TRADES DELIV_QTY  \\\n",
       "67      1000.00         38510         385.10           101     34631   \n",
       "87      1409.10         50937         722.28          2692     44611   \n",
       "143      270.83        220620         595.62          1008    210086   \n",
       "228     5090.00        147186        7520.18          8036    133634   \n",
       "247      219.15        571378        1258.37          2256    513194   \n",
       "\n",
       "     DELIV_PER        DATE1  \n",
       "67       89.93  04-Apr-2024  \n",
       "87       87.58  04-Apr-2024  \n",
       "143      95.23  04-Apr-2024  \n",
       "228      90.79  04-Apr-2024  \n",
       "247      89.82  04-Apr-2024  "
      ]
     },
     "execution_count": 14,
     "metadata": {},
     "output_type": "execute_result"
    }
   ],
   "source": [
    "# Display the first few rows and columns of the dataframe\n",
    "\n",
    "print(df.columns.to_list()), print()\n",
    "new_df.head()\n"
   ]
  },
  {
   "cell_type": "code",
   "execution_count": null,
   "id": "20cb2fb1-6499-4e08-91bc-55f4fde8f3d5",
   "metadata": {},
   "outputs": [],
   "source": [
    "# Save filtered dataframe to CSV\n",
    "\n",
    "output_path = '/home/subhamde/Desktop/Final Year Project/Stock-Tweets/Data/after_sort2.csv'\n",
    "new_df.to_csv(output_path, index=False)\n",
    "print(f\"CSV file saved successfully at: {output_path}\")"
   ]
  }
 ],
 "metadata": {
  "kernelspec": {
   "display_name": "Python 3 (ipykernel)",
   "language": "python",
   "name": "python3"
  },
  "language_info": {
   "codemirror_mode": {
    "name": "ipython",
    "version": 3
   },
   "file_extension": ".py",
   "mimetype": "text/x-python",
   "name": "python",
   "nbconvert_exporter": "python",
   "pygments_lexer": "ipython3",
   "version": "3.11.8"
  }
 },
 "nbformat": 4,
 "nbformat_minor": 5
}
