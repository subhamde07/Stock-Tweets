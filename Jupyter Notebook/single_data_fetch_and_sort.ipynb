{
 "cells": [
  {
   "cell_type": "code",
   "execution_count": 1,
   "id": "cdd419fd-6ba8-4bbe-baf0-193b46b6b9ab",
   "metadata": {},
   "outputs": [],
   "source": [
    "import numpy as np\n",
    "import pandas as pd\n",
    "from nselib import capital_market\n",
    "from datetime import datetime"
   ]
  },
  {
   "cell_type": "code",
   "execution_count": 2,
   "id": "703d586b-2c30-44ab-96c1-9b5c5a66e535",
   "metadata": {},
   "outputs": [],
   "source": [
    "def fetch_and_sort_data(date_input):\n",
    "    try:\n",
    "        # Format the date\n",
    "        formatted_date = date_input.strftime(\"%d-%m-%Y\")\n",
    "\n",
    "        # Fetch Bhav Copy data for the specified date\n",
    "        df = capital_market.bhav_copy_with_delivery(formatted_date)\n",
    "\n",
    "        # Convert 'DELIV_PER' column to numeric using NumPy\n",
    "        df['DELIV_PER'] = pd.to_numeric(df['DELIV_PER'], errors='coerce')\n",
    "\n",
    "        # Apply filtering conditions using vectorized operations\n",
    "        condition = (\n",
    "                (df['SERIES'] == 'EQ') &\n",
    "                (df['TURNOVER_LACS'] > 100) &\n",
    "                (df['DELIV_PER'] > 85.00) &\n",
    "                (~df['SYMBOL'].str.endswith(('BEES', 'ETF', 'NIFTY', 'GOLD')))\n",
    "        )\n",
    "        filtered_df = df[condition]\n",
    "\n",
    "        # Sort by DELIV_PER in descending order using NumPy\n",
    "        sorted_indices = np.argsort(filtered_df['DELIV_PER'].values)[::-1]\n",
    "        sorted_df = filtered_df.iloc[sorted_indices[:15]]  # Select top 15 rows\n",
    "\n",
    "        # Create DataFrame with only the required columns\n",
    "        result_df = pd.DataFrame({\n",
    "            'SYMBOL': sorted_df['SYMBOL'].values,\n",
    "            'DELIV_PER': sorted_df['DELIV_PER'].values\n",
    "        })\n",
    "\n",
    "        # Save the result to a CSV file with a custom name based on the date\n",
    "        date_data = date_input.strftime(\"%Y-%m-%d\")\n",
    "        file_name = f\"/home/subhamde/Desktop/Final Year Project/Stock-Tweets/Data/{date_data}_sorted_data.csv\"\n",
    "        result_df.to_csv(file_name, index=False)\n",
    "\n",
    "        print(f\"Data saved to '{file_name}' successfully!\")\n",
    "\n",
    "    except Exception as e:\n",
    "        print(\"An error occurred:\", e)\n"
   ]
  },
  {
   "cell_type": "code",
   "execution_count": 3,
   "id": "8967e2f1-fe0d-4455-82bc-521384c01f5c",
   "metadata": {},
   "outputs": [
    {
     "name": "stdin",
     "output_type": "stream",
     "text": [
      "Enter the date in DD-MM-YYYY format (e.g., 01-05-2024):  05-05-2024\n"
     ]
    },
    {
     "name": "stdout",
     "output_type": "stream",
     "text": [
      "Data saved to '/home/subhamde/Desktop/Final Year Project/Stock-Tweets/Data/2024-05-05_sorted_data.csv' successfully!\n"
     ]
    }
   ],
   "source": [
    "# Get user input for date\n",
    "date_input_str = input(\"Enter the date in DD-MM-YYYY format (e.g., 01-05-2024): \")\n",
    "date_input = datetime.strptime(date_input_str, \"%d-%m-%Y\")\n",
    "\n",
    "# Call the function with user input date\n",
    "fetch_and_sort_data(date_input)"
   ]
  },
  {
   "cell_type": "code",
   "execution_count": null,
   "id": "a2471bef-20bd-4d89-923b-7831aed05544",
   "metadata": {},
   "outputs": [],
   "source": []
  }
 ],
 "metadata": {
  "kernelspec": {
   "display_name": "Python 3 (ipykernel)",
   "language": "python",
   "name": "python3"
  },
  "language_info": {
   "codemirror_mode": {
    "name": "ipython",
    "version": 3
   },
   "file_extension": ".py",
   "mimetype": "text/x-python",
   "name": "python",
   "nbconvert_exporter": "python",
   "pygments_lexer": "ipython3",
   "version": "3.11.8"
  }
 },
 "nbformat": 4,
 "nbformat_minor": 5
}
